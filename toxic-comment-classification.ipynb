{
 "cells": [
  {
   "cell_type": "code",
   "execution_count": 1,
   "id": "aa044af4",
   "metadata": {
    "execution": {
     "iopub.execute_input": "2021-08-11T20:48:04.270355Z",
     "iopub.status.busy": "2021-08-11T20:48:04.269509Z",
     "iopub.status.idle": "2021-08-11T20:48:06.204311Z",
     "shell.execute_reply": "2021-08-11T20:48:06.203505Z",
     "shell.execute_reply.started": "2021-08-11T20:01:03.805078Z"
    },
    "papermill": {
     "duration": 1.974513,
     "end_time": "2021-08-11T20:48:06.204477",
     "exception": false,
     "start_time": "2021-08-11T20:48:04.229964",
     "status": "completed"
    },
    "tags": []
   },
   "outputs": [],
   "source": [
    "import pandas as pd\n",
    "from sklearn.svm import SVC\n",
    "import seaborn as sns\n",
    "import matplotlib.pyplot as plt\n",
    "import re\n",
    "import numpy as np\n",
    "import sklearn.feature_extraction.text as ft\n",
    "from sklearn.model_selection import train_test_split, GridSearchCV\n",
    "from sklearn.tree import DecisionTreeClassifier\n",
    "from sklearn.ensemble import RandomForestClassifier\n",
    "from sklearn.neighbors import KNeighborsClassifier\n",
    "from sklearn.linear_model import RidgeClassifier, Ridge\n",
    "from sklearn.metrics import *\n",
    "from wordcloud import WordCloud, STOPWORDS\n",
    "from nltk.corpus import stopwords\n",
    "stop_words = set(stopwords.words('english'))\n",
    "stopwords = set(STOPWORDS)"
   ]
  },
  {
   "cell_type": "code",
   "execution_count": 2,
   "id": "143e304e",
   "metadata": {
    "execution": {
     "iopub.execute_input": "2021-08-11T20:48:06.259250Z",
     "iopub.status.busy": "2021-08-11T20:48:06.258567Z",
     "iopub.status.idle": "2021-08-11T20:48:08.832951Z",
     "shell.execute_reply": "2021-08-11T20:48:08.832406Z",
     "shell.execute_reply.started": "2021-08-11T20:01:03.815109Z"
    },
    "papermill": {
     "duration": 2.604521,
     "end_time": "2021-08-11T20:48:08.833108",
     "exception": false,
     "start_time": "2021-08-11T20:48:06.228587",
     "status": "completed"
    },
    "tags": []
   },
   "outputs": [],
   "source": [
    "df = pd.read_csv(\"../input/jigsaw-toxic-comment-classification-challenge/train.csv.zip\")"
   ]
  },
  {
   "cell_type": "code",
   "execution_count": 3,
   "id": "9e3676f8",
   "metadata": {
    "execution": {
     "iopub.execute_input": "2021-08-11T20:48:08.890012Z",
     "iopub.status.busy": "2021-08-11T20:48:08.889388Z",
     "iopub.status.idle": "2021-08-11T20:48:08.900257Z",
     "shell.execute_reply": "2021-08-11T20:48:08.899603Z",
     "shell.execute_reply.started": "2021-08-11T20:01:05.327137Z"
    },
    "papermill": {
     "duration": 0.043601,
     "end_time": "2021-08-11T20:48:08.900406",
     "exception": false,
     "start_time": "2021-08-11T20:48:08.856805",
     "status": "completed"
    },
    "tags": []
   },
   "outputs": [],
   "source": [
    "df_samp = df.sample(20000)"
   ]
  },
  {
   "cell_type": "code",
   "execution_count": 4,
   "id": "61c944c4",
   "metadata": {
    "execution": {
     "iopub.execute_input": "2021-08-11T20:48:08.949294Z",
     "iopub.status.busy": "2021-08-11T20:48:08.948655Z",
     "iopub.status.idle": "2021-08-11T20:48:08.966521Z",
     "shell.execute_reply": "2021-08-11T20:48:08.967103Z",
     "shell.execute_reply.started": "2021-08-11T20:01:05.342098Z"
    },
    "papermill": {
     "duration": 0.043834,
     "end_time": "2021-08-11T20:48:08.967288",
     "exception": false,
     "start_time": "2021-08-11T20:48:08.923454",
     "status": "completed"
    },
    "tags": []
   },
   "outputs": [
    {
     "data": {
      "text/plain": [
       "toxic            1899\n",
       "severe_toxic      208\n",
       "obscene          1052\n",
       "threat             60\n",
       "insult            983\n",
       "identity_hate     204\n",
       "dtype: int64"
      ]
     },
     "execution_count": 4,
     "metadata": {},
     "output_type": "execute_result"
    }
   ],
   "source": [
    "categories = ['toxic','severe_toxic','obscene','threat','insult','identity_hate']\n",
    "df_samp[categories].sum()"
   ]
  },
  {
   "cell_type": "code",
   "execution_count": 5,
   "id": "49d1a308",
   "metadata": {
    "execution": {
     "iopub.execute_input": "2021-08-11T20:48:09.016689Z",
     "iopub.status.busy": "2021-08-11T20:48:09.016056Z",
     "iopub.status.idle": "2021-08-11T20:48:09.204303Z",
     "shell.execute_reply": "2021-08-11T20:48:09.204837Z",
     "shell.execute_reply.started": "2021-08-11T20:01:05.356894Z"
    },
    "papermill": {
     "duration": 0.214378,
     "end_time": "2021-08-11T20:48:09.205014",
     "exception": false,
     "start_time": "2021-08-11T20:48:08.990636",
     "status": "completed"
    },
    "tags": []
   },
   "outputs": [
    {
     "data": {
      "image/png": "[encoded data removed]",
      "text/plain": [
       "<Figure size 432x288 with 1 Axes>"
      ]
     },
     "metadata": {
      "needs_background": "light"
     },
     "output_type": "display_data"
    }
   ],
   "source": [
    "sns.barplot(x=categories,y=df_samp[categories].sum())\n",
    "plt.show()"
   ]
  },
  {
   "cell_type": "code",
   "execution_count": 6,
   "id": "025e8570",
   "metadata": {
    "execution": {
     "iopub.execute_input": "2021-08-11T20:48:09.256216Z",
     "iopub.status.busy": "2021-08-11T20:48:09.255549Z",
     "iopub.status.idle": "2021-08-11T20:48:09.260363Z",
     "shell.execute_reply": "2021-08-11T20:48:09.259812Z",
     "shell.execute_reply.started": "2021-08-11T20:01:05.544827Z"
    },
    "papermill": {
     "duration": 0.030994,
     "end_time": "2021-08-11T20:48:09.260501",
     "exception": false,
     "start_time": "2021-08-11T20:48:09.229507",
     "status": "completed"
    },
    "tags": []
   },
   "outputs": [],
   "source": [
    "wc = WordCloud(background_color='white',\n",
    "               max_words=100,\n",
    "               stopwords=stopwords)"
   ]
  },
  {
   "cell_type": "code",
   "execution_count": 7,
   "id": "a4e747e2",
   "metadata": {
    "execution": {
     "iopub.execute_input": "2021-08-11T20:48:09.313881Z",
     "iopub.status.busy": "2021-08-11T20:48:09.313201Z",
     "iopub.status.idle": "2021-08-11T20:48:09.315034Z",
     "shell.execute_reply": "2021-08-11T20:48:09.315651Z",
     "shell.execute_reply.started": "2021-08-11T20:01:05.552030Z"
    },
    "papermill": {
     "duration": 0.03129,
     "end_time": "2021-08-11T20:48:09.315817",
     "exception": false,
     "start_time": "2021-08-11T20:48:09.284527",
     "status": "completed"
    },
    "tags": []
   },
   "outputs": [],
   "source": [
    "def get_words(df,label):\n",
    "    words = []\n",
    "    for row in df[df[label]==1].iloc[:]['comment_text']:\n",
    "        words += clean_text(row)\n",
    "    return ' '.join(words)"
   ]
  },
  {
   "cell_type": "code",
   "execution_count": 8,
   "id": "8101489b",
   "metadata": {
    "execution": {
     "iopub.execute_input": "2021-08-11T20:48:09.367528Z",
     "iopub.status.busy": "2021-08-11T20:48:09.366837Z",
     "iopub.status.idle": "2021-08-11T20:48:09.371227Z",
     "shell.execute_reply": "2021-08-11T20:48:09.371750Z",
     "shell.execute_reply.started": "2021-08-11T20:01:05.565862Z"
    },
    "papermill": {
     "duration": 0.032239,
     "end_time": "2021-08-11T20:48:09.371950",
     "exception": false,
     "start_time": "2021-08-11T20:48:09.339711",
     "status": "completed"
    },
    "tags": []
   },
   "outputs": [],
   "source": [
    "def clean_text(row):\n",
    "    words = []\n",
    "    for w in row.split():\n",
    "        word = re.sub('[^A-Za-z0-9]+', '', str(w))\n",
    "        words.append(word.lower())\n",
    "    return words"
   ]
  },
  {
   "cell_type": "code",
   "execution_count": 9,
   "id": "db41b18b",
   "metadata": {
    "execution": {
     "iopub.execute_input": "2021-08-11T20:48:09.423252Z",
     "iopub.status.busy": "2021-08-11T20:48:09.422616Z",
     "iopub.status.idle": "2021-08-11T20:48:09.428366Z",
     "shell.execute_reply": "2021-08-11T20:48:09.428818Z",
     "shell.execute_reply.started": "2021-08-11T20:01:05.585726Z"
    },
    "papermill": {
     "duration": 0.033033,
     "end_time": "2021-08-11T20:48:09.429020",
     "exception": false,
     "start_time": "2021-08-11T20:48:09.395987",
     "status": "completed"
    },
    "tags": []
   },
   "outputs": [
    {
     "data": {
      "text/plain": [
       "\"\\nfig = plt.figure(figsize=(15,10))\\n\\nfor i,l in enumerate(categories):\\n    wc.generate(get_words(df_samp,l))\\n    fig.add_subplot(2,3,i+1)\\n    plt.imshow(wc, interpolation='bilinear')\\n    plt.title(l)\\n    plt.axis('off')\\n\\nfig.tight_layout()\\nplt.show()\\n\""
      ]
     },
     "execution_count": 9,
     "metadata": {},
     "output_type": "execute_result"
    }
   ],
   "source": [
    "'''\n",
    "fig = plt.figure(figsize=(15,10))\n",
    "\n",
    "for i,l in enumerate(categories):\n",
    "    wc.generate(get_words(df_samp,l))\n",
    "    fig.add_subplot(2,3,i+1)\n",
    "    plt.imshow(wc, interpolation='bilinear')\n",
    "    plt.title(l)\n",
    "    plt.axis('off')\n",
    "\n",
    "fig.tight_layout()\n",
    "plt.show()\n",
    "'''"
   ]
  },
  {
   "cell_type": "code",
   "execution_count": 10,
   "id": "0e003b5b",
   "metadata": {
    "execution": {
     "iopub.execute_input": "2021-08-11T20:48:09.495323Z",
     "iopub.status.busy": "2021-08-11T20:48:09.490093Z",
     "iopub.status.idle": "2021-08-11T20:48:11.182987Z",
     "shell.execute_reply": "2021-08-11T20:48:11.182436Z",
     "shell.execute_reply.started": "2021-08-11T20:01:05.600542Z"
    },
    "papermill": {
     "duration": 1.72978,
     "end_time": "2021-08-11T20:48:11.183139",
     "exception": false,
     "start_time": "2021-08-11T20:48:09.453359",
     "status": "completed"
    },
    "tags": []
   },
   "outputs": [],
   "source": [
    "X = df_samp['comment_text']\n",
    "y = df_samp[categories]\n",
    "vectorizer = ft.TfidfVectorizer(stop_words=stop_words)\n",
    "x_train,x_test,y_train,y_test = train_test_split(vectorizer.fit_transform(X),y,test_size=0.2,random_state=42)"
   ]
  },
  {
   "cell_type": "code",
   "execution_count": 11,
   "id": "e4ae75c6",
   "metadata": {
    "execution": {
     "iopub.execute_input": "2021-08-11T20:48:11.235898Z",
     "iopub.status.busy": "2021-08-11T20:48:11.235248Z",
     "iopub.status.idle": "2021-08-11T20:48:51.889457Z",
     "shell.execute_reply": "2021-08-11T20:48:51.889960Z",
     "shell.execute_reply.started": "2021-08-11T20:01:07.306672Z"
    },
    "papermill": {
     "duration": 40.682857,
     "end_time": "2021-08-11T20:48:51.890136",
     "exception": false,
     "start_time": "2021-08-11T20:48:11.207279",
     "status": "completed"
    },
    "tags": []
   },
   "outputs": [
    {
     "data": {
      "text/plain": [
       "DecisionTreeClassifier()"
      ]
     },
     "execution_count": 11,
     "metadata": {},
     "output_type": "execute_result"
    }
   ],
   "source": [
    "DT = DecisionTreeClassifier()\n",
    "DT.fit(x_train,y_train)"
   ]
  },
  {
   "cell_type": "code",
   "execution_count": 12,
   "id": "980d5a4c",
   "metadata": {
    "execution": {
     "iopub.execute_input": "2021-08-11T20:48:51.943746Z",
     "iopub.status.busy": "2021-08-11T20:48:51.943070Z",
     "iopub.status.idle": "2021-08-11T20:48:51.945872Z",
     "shell.execute_reply": "2021-08-11T20:48:51.945355Z",
     "shell.execute_reply.started": "2021-08-11T20:01:45.632516Z"
    },
    "papermill": {
     "duration": 0.031764,
     "end_time": "2021-08-11T20:48:51.946170",
     "exception": false,
     "start_time": "2021-08-11T20:48:51.914406",
     "status": "completed"
    },
    "tags": []
   },
   "outputs": [],
   "source": [
    "#params = {'n_neighbors':[8]}\n",
    "KNN = KNeighborsClassifier(n_neighbors=8)\n",
    "#KNN = GridSearchCV(KNN,params)"
   ]
  },
  {
   "cell_type": "code",
   "execution_count": 13,
   "id": "54be45df",
   "metadata": {
    "execution": {
     "iopub.execute_input": "2021-08-11T20:48:52.000926Z",
     "iopub.status.busy": "2021-08-11T20:48:52.000278Z",
     "iopub.status.idle": "2021-08-11T20:48:52.014829Z",
     "shell.execute_reply": "2021-08-11T20:48:52.014288Z",
     "shell.execute_reply.started": "2021-08-11T20:01:45.640043Z"
    },
    "papermill": {
     "duration": 0.043715,
     "end_time": "2021-08-11T20:48:52.014974",
     "exception": false,
     "start_time": "2021-08-11T20:48:51.971259",
     "status": "completed"
    },
    "tags": []
   },
   "outputs": [
    {
     "data": {
      "text/plain": [
       "KNeighborsClassifier(n_neighbors=8)"
      ]
     },
     "execution_count": 13,
     "metadata": {},
     "output_type": "execute_result"
    }
   ],
   "source": [
    "#KNN_CV.best_estimator_\n",
    "KNN.fit(x_train,y_train)"
   ]
  },
  {
   "cell_type": "code",
   "execution_count": 14,
   "id": "9de9d7e4",
   "metadata": {
    "execution": {
     "iopub.execute_input": "2021-08-11T20:48:52.069106Z",
     "iopub.status.busy": "2021-08-11T20:48:52.068407Z",
     "iopub.status.idle": "2021-08-11T20:48:52.071973Z",
     "shell.execute_reply": "2021-08-11T20:48:52.071367Z",
     "shell.execute_reply.started": "2021-08-11T20:01:45.668416Z"
    },
    "papermill": {
     "duration": 0.032284,
     "end_time": "2021-08-11T20:48:52.072109",
     "exception": false,
     "start_time": "2021-08-11T20:48:52.039825",
     "status": "completed"
    },
    "tags": []
   },
   "outputs": [],
   "source": [
    "#params = {'n_estimators':[100]}\n",
    "RFC = RandomForestClassifier()\n",
    "#RFC_CV = GridSearchCV(RFC,params)"
   ]
  },
  {
   "cell_type": "code",
   "execution_count": 15,
   "id": "3d91268c",
   "metadata": {
    "execution": {
     "iopub.execute_input": "2021-08-11T20:48:52.127677Z",
     "iopub.status.busy": "2021-08-11T20:48:52.126567Z",
     "iopub.status.idle": "2021-08-11T20:50:33.910022Z",
     "shell.execute_reply": "2021-08-11T20:50:33.910532Z",
     "shell.execute_reply.started": "2021-08-11T20:01:45.675501Z"
    },
    "papermill": {
     "duration": 101.813244,
     "end_time": "2021-08-11T20:50:33.910703",
     "exception": false,
     "start_time": "2021-08-11T20:48:52.097459",
     "status": "completed"
    },
    "tags": []
   },
   "outputs": [
    {
     "data": {
      "text/plain": [
       "RandomForestClassifier()"
      ]
     },
     "execution_count": 15,
     "metadata": {},
     "output_type": "execute_result"
    }
   ],
   "source": [
    "#RFC_CV.best_estimator_\n",
    "RFC.fit(x_train,y_train)"
   ]
  },
  {
   "cell_type": "code",
   "execution_count": 16,
   "id": "9538d4ae",
   "metadata": {
    "execution": {
     "iopub.execute_input": "2021-08-11T20:50:33.966877Z",
     "iopub.status.busy": "2021-08-11T20:50:33.966234Z",
     "iopub.status.idle": "2021-08-11T20:50:38.125848Z",
     "shell.execute_reply": "2021-08-11T20:50:38.126541Z",
     "shell.execute_reply.started": "2021-08-11T20:03:26.546221Z"
    },
    "papermill": {
     "duration": 4.191167,
     "end_time": "2021-08-11T20:50:38.126715",
     "exception": false,
     "start_time": "2021-08-11T20:50:33.935548",
     "status": "completed"
    },
    "tags": []
   },
   "outputs": [],
   "source": [
    "model_names = ['DT','KNN','RFC']\n",
    "models = [DT,KNN,RFC]\n",
    "scores = []\n",
    "\n",
    "for name,model in zip(model_names,models):\n",
    "    scores.append(model.score(x_test,y_test))"
   ]
  },
  {
   "cell_type": "code",
   "execution_count": 17,
   "id": "71702823",
   "metadata": {
    "execution": {
     "iopub.execute_input": "2021-08-11T20:50:38.197181Z",
     "iopub.status.busy": "2021-08-11T20:50:38.185583Z",
     "iopub.status.idle": "2021-08-11T20:50:38.299193Z",
     "shell.execute_reply": "2021-08-11T20:50:38.298652Z",
     "shell.execute_reply.started": "2021-08-11T20:03:30.677631Z"
    },
    "papermill": {
     "duration": 0.146712,
     "end_time": "2021-08-11T20:50:38.299337",
     "exception": false,
     "start_time": "2021-08-11T20:50:38.152625",
     "status": "completed"
    },
    "tags": []
   },
   "outputs": [
    {
     "data": {
      "image/png": "[encoded data removed]",
      "text/plain": [
       "<Figure size 432x288 with 1 Axes>"
      ]
     },
     "metadata": {
      "needs_background": "light"
     },
     "output_type": "display_data"
    }
   ],
   "source": [
    "g = sns.barplot(x=model_names,y=scores)\n",
    "for idx,score in enumerate(scores):#zip(model_names,scores):\n",
    "    plt.text(idx,score-0.05,round(score,3),ha='center')\n",
    "plt.show()"
   ]
  },
  {
   "cell_type": "code",
   "execution_count": 18,
   "id": "db9085cb",
   "metadata": {
    "execution": {
     "iopub.execute_input": "2021-08-11T20:50:38.356314Z",
     "iopub.status.busy": "2021-08-11T20:50:38.355635Z",
     "iopub.status.idle": "2021-08-11T20:50:38.357452Z",
     "shell.execute_reply": "2021-08-11T20:50:38.357916Z",
     "shell.execute_reply.started": "2021-08-11T20:03:30.817194Z"
    },
    "papermill": {
     "duration": 0.03248,
     "end_time": "2021-08-11T20:50:38.358085",
     "exception": false,
     "start_time": "2021-08-11T20:50:38.325605",
     "status": "completed"
    },
    "tags": []
   },
   "outputs": [],
   "source": [
    "best_model = models[scores.index(max(scores))]"
   ]
  },
  {
   "cell_type": "code",
   "execution_count": 19,
   "id": "8e733e4d",
   "metadata": {
    "execution": {
     "iopub.execute_input": "2021-08-11T20:50:38.412438Z",
     "iopub.status.busy": "2021-08-11T20:50:38.411803Z",
     "iopub.status.idle": "2021-08-11T20:50:39.404267Z",
     "shell.execute_reply": "2021-08-11T20:50:39.403661Z",
     "shell.execute_reply.started": "2021-08-11T20:03:30.823554Z"
    },
    "papermill": {
     "duration": 1.02053,
     "end_time": "2021-08-11T20:50:39.404416",
     "exception": false,
     "start_time": "2021-08-11T20:50:38.383886",
     "status": "completed"
    },
    "tags": []
   },
   "outputs": [
    {
     "data": {
      "image/png": "[encoded data removed]",
      "text/plain": [
       "<Figure size 1080x720 with 1 Axes>"
      ]
     },
     "metadata": {
      "needs_background": "light"
     },
     "output_type": "display_data"
    }
   ],
   "source": [
    "fig = plt.figure(figsize=(15,10))\n",
    "sns.barplot(x=categories,y=y_test[categories].sum(),color='blue')\n",
    "sns.barplot(x=categories,y=sum(best_model.predict(x_test)),color='orange')\n",
    "plt.show()"
   ]
  },
  {
   "cell_type": "code",
   "execution_count": 20,
   "id": "abcfbc2b",
   "metadata": {
    "execution": {
     "iopub.execute_input": "2021-08-11T20:50:39.485476Z",
     "iopub.status.busy": "2021-08-11T20:50:39.484766Z",
     "iopub.status.idle": "2021-08-11T20:50:45.677447Z",
     "shell.execute_reply": "2021-08-11T20:50:45.676875Z",
     "shell.execute_reply.started": "2021-08-11T20:03:31.853690Z"
    },
    "papermill": {
     "duration": 6.246128,
     "end_time": "2021-08-11T20:50:45.677600",
     "exception": false,
     "start_time": "2021-08-11T20:50:39.431472",
     "status": "completed"
    },
    "tags": []
   },
   "outputs": [
    {
     "data": {
      "image/png": "[encoded data removed]",
      "text/plain": [
       "<Figure size 1080x360 with 2 Axes>"
      ]
     },
     "metadata": {
      "needs_background": "light"
     },
     "output_type": "display_data"
    }
   ],
   "source": [
    "fig = plt.figure(figsize=(15,5))\n",
    "fig.add_subplot(1,2,1)\n",
    "g = sns.barplot(x=categories,y=y_train[categories].sum(),color='blue')\n",
    "for idx,score in enumerate(y_train[categories].sum()):#zip(model_names,scores):\n",
    "    g.text(idx,score,round(score,5),ha='center')\n",
    "\n",
    "fig.add_subplot(1,2,2)\n",
    "g = sns.barplot(x=categories,y=sum(best_model.predict(x_train)),color='orange')\n",
    "for idx,score in enumerate(sum(best_model.predict(x_train))):#zip(model_names,scores):\n",
    "    g.text(idx,score,round(score,5),ha='center')\n",
    "\n",
    "fig.tight_layout()\n",
    "plt.show()"
   ]
  },
  {
   "cell_type": "code",
   "execution_count": 21,
   "id": "3876f0c4",
   "metadata": {
    "execution": {
     "iopub.execute_input": "2021-08-11T20:50:45.779583Z",
     "iopub.status.busy": "2021-08-11T20:50:45.774508Z",
     "iopub.status.idle": "2021-08-11T20:50:58.433738Z",
     "shell.execute_reply": "2021-08-11T20:50:58.433104Z",
     "shell.execute_reply.started": "2021-08-11T20:03:38.198366Z"
    },
    "papermill": {
     "duration": 12.728037,
     "end_time": "2021-08-11T20:50:58.433878",
     "exception": false,
     "start_time": "2021-08-11T20:50:45.705841",
     "status": "completed"
    },
    "tags": []
   },
   "outputs": [],
   "source": [
    "X = vectorizer.fit_transform(df['comment_text'])\n",
    "y = df[categories]\n",
    "x_train,x_test,y_train,y_test = train_test_split(X,y,test_size=0.2,random_state=42)"
   ]
  },
  {
   "cell_type": "code",
   "execution_count": 22,
   "id": "4efa1b42",
   "metadata": {
    "execution": {
     "iopub.execute_input": "2021-08-11T20:50:58.494095Z",
     "iopub.status.busy": "2021-08-11T20:50:58.493428Z",
     "iopub.status.idle": "2021-08-11T21:29:27.888421Z",
     "shell.execute_reply": "2021-08-11T21:29:27.888903Z",
     "shell.execute_reply.started": "2021-08-11T20:03:51.063357Z"
    },
    "papermill": {
     "duration": 2309.427524,
     "end_time": "2021-08-11T21:29:27.889077",
     "exception": false,
     "start_time": "2021-08-11T20:50:58.461553",
     "status": "completed"
    },
    "tags": []
   },
   "outputs": [
    {
     "data": {
      "text/plain": [
       "RandomForestClassifier()"
      ]
     },
     "execution_count": 22,
     "metadata": {},
     "output_type": "execute_result"
    }
   ],
   "source": [
    "best_model.fit(x_train,y_train)"
   ]
  },
  {
   "cell_type": "code",
   "execution_count": 23,
   "id": "0ab0e4ba",
   "metadata": {
    "execution": {
     "iopub.execute_input": "2021-08-11T21:29:27.949145Z",
     "iopub.status.busy": "2021-08-11T21:29:27.948553Z",
     "iopub.status.idle": "2021-08-11T21:29:29.990257Z",
     "shell.execute_reply": "2021-08-11T21:29:29.990839Z",
     "shell.execute_reply.started": "2021-08-11T20:45:01.161244Z"
    },
    "papermill": {
     "duration": 2.074756,
     "end_time": "2021-08-11T21:29:29.991029",
     "exception": false,
     "start_time": "2021-08-11T21:29:27.916273",
     "status": "completed"
    },
    "tags": []
   },
   "outputs": [],
   "source": [
    "df_test = pd.read_csv('../input/jigsaw-toxic-comment-classification-challenge/test.csv.zip')"
   ]
  },
  {
   "cell_type": "code",
   "execution_count": 24,
   "id": "8f3c472f",
   "metadata": {
    "execution": {
     "iopub.execute_input": "2021-08-11T21:29:30.050029Z",
     "iopub.status.busy": "2021-08-11T21:29:30.049042Z",
     "iopub.status.idle": "2021-08-11T21:30:27.704202Z",
     "shell.execute_reply": "2021-08-11T21:30:27.703538Z",
     "shell.execute_reply.started": "2021-08-11T20:45:02.519956Z"
    },
    "papermill": {
     "duration": 57.685772,
     "end_time": "2021-08-11T21:30:27.704330",
     "exception": false,
     "start_time": "2021-08-11T21:29:30.018558",
     "status": "completed"
    },
    "tags": []
   },
   "outputs": [],
   "source": [
    "X = vectorizer.transform(df_test['comment_text'])\n",
    "y = best_model.predict_proba(X)"
   ]
  },
  {
   "cell_type": "code",
   "execution_count": 25,
   "id": "3b68797a",
   "metadata": {
    "execution": {
     "iopub.execute_input": "2021-08-11T21:30:27.764294Z",
     "iopub.status.busy": "2021-08-11T21:30:27.763571Z",
     "iopub.status.idle": "2021-08-11T21:30:28.059311Z",
     "shell.execute_reply": "2021-08-11T21:30:28.058764Z",
     "shell.execute_reply.started": "2021-08-11T20:46:00.585812Z"
    },
    "papermill": {
     "duration": 0.327452,
     "end_time": "2021-08-11T21:30:28.059466",
     "exception": false,
     "start_time": "2021-08-11T21:30:27.732014",
     "status": "completed"
    },
    "tags": []
   },
   "outputs": [],
   "source": [
    "df_submit = pd.read_csv('../input/jigsaw-toxic-comment-classification-challenge/sample_submission.csv.zip')"
   ]
  },
  {
   "cell_type": "code",
   "execution_count": 26,
   "id": "71587d2e",
   "metadata": {
    "execution": {
     "iopub.execute_input": "2021-08-11T21:30:28.120813Z",
     "iopub.status.busy": "2021-08-11T21:30:28.120085Z",
     "iopub.status.idle": "2021-08-11T21:30:28.127393Z",
     "shell.execute_reply": "2021-08-11T21:30:28.126793Z",
     "shell.execute_reply.started": "2021-08-11T20:46:00.837510Z"
    },
    "papermill": {
     "duration": 0.040211,
     "end_time": "2021-08-11T21:30:28.127526",
     "exception": false,
     "start_time": "2021-08-11T21:30:28.087315",
     "status": "completed"
    },
    "tags": []
   },
   "outputs": [],
   "source": [
    "for idx,cat in enumerate(categories):\n",
    "    df_submit[cat] = y[idx][:,1]"
   ]
  },
  {
   "cell_type": "code",
   "execution_count": 27,
   "id": "7a7c9667",
   "metadata": {
    "execution": {
     "iopub.execute_input": "2021-08-11T21:30:28.185917Z",
     "iopub.status.busy": "2021-08-11T21:30:28.185007Z",
     "iopub.status.idle": "2021-08-11T21:30:29.385062Z",
     "shell.execute_reply": "2021-08-11T21:30:29.385580Z",
     "shell.execute_reply.started": "2021-08-11T20:46:00.851207Z"
    },
    "papermill": {
     "duration": 1.230634,
     "end_time": "2021-08-11T21:30:29.385760",
     "exception": false,
     "start_time": "2021-08-11T21:30:28.155126",
     "status": "completed"
    },
    "tags": []
   },
   "outputs": [],
   "source": [
    "df_submit.to_csv('submission.csv',index=False)"
   ]
  },
  {
   "cell_type": "code",
   "execution_count": null,
   "id": "f9d445e5",
   "metadata": {
    "papermill": {
     "duration": 0.02664,
     "end_time": "2021-08-11T21:30:29.439590",
     "exception": false,
     "start_time": "2021-08-11T21:30:29.412950",
     "status": "completed"
    },
    "tags": []
   },
   "outputs": [],
   "source": []
  }
 ],
 "metadata": {
  "kernelspec": {
   "display_name": "Python 3",
   "language": "python",
   "name": "python3"
  },
  "language_info": {
   "codemirror_mode": {
    "name": "ipython",
    "version": 3
   },
   "file_extension": ".py",
   "mimetype": "text/x-python",
   "name": "python",
   "nbconvert_exporter": "python",
   "pygments_lexer": "ipython3",
   "version": "3.7.10"
  },
  "papermill": {
   "default_parameters": {},
   "duration": 2554.285788,
   "end_time": "2021-08-11T21:30:30.578487",
   "environment_variables": {},
   "exception": null,
   "input_path": "__notebook__.ipynb",
   "output_path": "__notebook__.ipynb",
   "parameters": {},
   "start_time": "2021-08-11T20:47:56.292699",
   "version": "2.3.3"
  }
 },
 "nbformat": 4,
 "nbformat_minor": 5
}
