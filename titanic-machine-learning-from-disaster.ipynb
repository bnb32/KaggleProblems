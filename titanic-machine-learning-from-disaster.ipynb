{
 "cells": [
  {
   "cell_type": "code",
   "execution_count": 1,
   "id": "68a97e4d",
   "metadata": {
    "execution": {
     "iopub.execute_input": "2021-08-07T20:56:25.383301Z",
     "iopub.status.busy": "2021-08-07T20:56:25.378253Z",
     "iopub.status.idle": "2021-08-07T20:56:26.618887Z",
     "shell.execute_reply": "2021-08-07T20:56:26.619421Z",
     "shell.execute_reply.started": "2021-08-07T20:55:34.972040Z"
    },
    "papermill": {
     "duration": 1.275167,
     "end_time": "2021-08-07T20:56:26.619762",
     "exception": false,
     "start_time": "2021-08-07T20:56:25.344595",
     "status": "completed"
    },
    "tags": []
   },
   "outputs": [],
   "source": [
    "import pandas as pd\n",
    "from sklearn.linear_model import LogisticRegression\n",
    "from sklearn.svm import SVC\n",
    "from sklearn.tree import DecisionTreeClassifier\n",
    "from sklearn.neighbors import KNeighborsClassifier\n",
    "from sklearn.ensemble import RandomForestClassifier, AdaBoostClassifier\n",
    "from sklearn.preprocessing import StandardScaler\n",
    "from sklearn.neural_network import MLPClassifier\n",
    "from sklearn.gaussian_process import GaussianProcessClassifier\n",
    "from sklearn.gaussian_process.kernels import RBF\n",
    "from sklearn.naive_bayes import GaussianNB\n",
    "\n",
    "from sklearn.metrics import *\n",
    "from sklearn.model_selection import train_test_split"
   ]
  },
  {
   "cell_type": "code",
   "execution_count": 2,
   "id": "c933fec0",
   "metadata": {
    "execution": {
     "iopub.execute_input": "2021-08-07T20:56:26.671157Z",
     "iopub.status.busy": "2021-08-07T20:56:26.670478Z",
     "iopub.status.idle": "2021-08-07T20:56:26.705677Z",
     "shell.execute_reply": "2021-08-07T20:56:26.706244Z",
     "shell.execute_reply.started": "2021-08-07T20:55:35.208590Z"
    },
    "papermill": {
     "duration": 0.062329,
     "end_time": "2021-08-07T20:56:26.706437",
     "exception": false,
     "start_time": "2021-08-07T20:56:26.644108",
     "status": "completed"
    },
    "tags": []
   },
   "outputs": [],
   "source": [
    "df = pd.read_csv(\"../input/titanic/train.csv\")\n",
    "df_test = pd.read_csv(\"../input/titanic/test.csv\")\n",
    "df_submission = pd.read_csv(\"../input/titanic/gender_submission.csv\")"
   ]
  },
  {
   "cell_type": "code",
   "execution_count": 3,
   "id": "ffd50e57",
   "metadata": {
    "execution": {
     "iopub.execute_input": "2021-08-07T20:56:26.758433Z",
     "iopub.status.busy": "2021-08-07T20:56:26.757801Z",
     "iopub.status.idle": "2021-08-07T20:56:26.785768Z",
     "shell.execute_reply": "2021-08-07T20:56:26.786469Z",
     "shell.execute_reply.started": "2021-08-07T20:55:35.404639Z"
    },
    "papermill": {
     "duration": 0.056022,
     "end_time": "2021-08-07T20:56:26.786646",
     "exception": false,
     "start_time": "2021-08-07T20:56:26.730624",
     "status": "completed"
    },
    "tags": []
   },
   "outputs": [
    {
     "name": "stdout",
     "output_type": "stream",
     "text": [
      "<class 'pandas.core.frame.DataFrame'>\n",
      "RangeIndex: 891 entries, 0 to 890\n",
      "Data columns (total 12 columns):\n",
      " #   Column       Non-Null Count  Dtype  \n",
      "---  ------       --------------  -----  \n",
      " 0   PassengerId  891 non-null    int64  \n",
      " 1   Survived     891 non-null    int64  \n",
      " 2   Pclass       891 non-null    int64  \n",
      " 3   Name         891 non-null    object \n",
      " 4   Sex          891 non-null    object \n",
      " 5   Age          714 non-null    float64\n",
      " 6   SibSp        891 non-null    int64  \n",
      " 7   Parch        891 non-null    int64  \n",
      " 8   Ticket       891 non-null    object \n",
      " 9   Fare         891 non-null    float64\n",
      " 10  Cabin        204 non-null    object \n",
      " 11  Embarked     889 non-null    object \n",
      "dtypes: float64(2), int64(5), object(5)\n",
      "memory usage: 83.7+ KB\n"
     ]
    }
   ],
   "source": [
    "df.info()"
   ]
  },
  {
   "cell_type": "code",
   "execution_count": 4,
   "id": "9f08a7f1",
   "metadata": {
    "execution": {
     "iopub.execute_input": "2021-08-07T20:56:26.840042Z",
     "iopub.status.busy": "2021-08-07T20:56:26.839342Z",
     "iopub.status.idle": "2021-08-07T20:56:26.846066Z",
     "shell.execute_reply": "2021-08-07T20:56:26.846564Z",
     "shell.execute_reply.started": "2021-08-07T20:55:35.592849Z"
    },
    "papermill": {
     "duration": 0.033892,
     "end_time": "2021-08-07T20:56:26.846730",
     "exception": false,
     "start_time": "2021-08-07T20:56:26.812838",
     "status": "completed"
    },
    "tags": []
   },
   "outputs": [],
   "source": [
    "def process_data(df):\n",
    "    convert_vals = {'Sex': {'male':0,'female':1},\n",
    "                    'Embarked':{'S':0,'C':1,'Q':2}}\n",
    "    df_tmp = df.copy()\n",
    "    df_tmp['Age'].fillna(value=df['Age'].mean(),inplace=True)\n",
    "    df_tmp['Embarked'].fillna(df['Embarked'].mode()[0],inplace=True)\n",
    "    df_tmp['Fare'].fillna(df['Fare'].mean(),inplace=True)\n",
    "    df_tmp = df_tmp.replace(convert_vals)\n",
    "    df_tmp = df_tmp.drop(['Cabin','Name','Ticket'],axis=1)\n",
    "    #df_tmp.set_index('PassengerId',drop=True)\n",
    "    \n",
    "    return df_tmp"
   ]
  },
  {
   "cell_type": "code",
   "execution_count": 5,
   "id": "2091d164",
   "metadata": {
    "execution": {
     "iopub.execute_input": "2021-08-07T20:56:26.898377Z",
     "iopub.status.busy": "2021-08-07T20:56:26.897696Z",
     "iopub.status.idle": "2021-08-07T20:56:26.902569Z",
     "shell.execute_reply": "2021-08-07T20:56:26.903076Z",
     "shell.execute_reply.started": "2021-08-07T20:55:35.772777Z"
    },
    "papermill": {
     "duration": 0.031903,
     "end_time": "2021-08-07T20:56:26.903281",
     "exception": false,
     "start_time": "2021-08-07T20:56:26.871378",
     "status": "completed"
    },
    "tags": []
   },
   "outputs": [],
   "source": [
    "def evaluate(model,X,y):\n",
    "    disp = plot_confusion_matrix(model,X,y)\n",
    "    disp.ax_.set_title(\"%s\" %(model.__class__.__name__))\n",
    "    \n",
    "    print(classification_report(y,model.predict(X)))"
   ]
  },
  {
   "cell_type": "code",
   "execution_count": 6,
   "id": "a00e416e",
   "metadata": {
    "execution": {
     "iopub.execute_input": "2021-08-07T20:56:26.958006Z",
     "iopub.status.busy": "2021-08-07T20:56:26.957055Z",
     "iopub.status.idle": "2021-08-07T20:56:26.965766Z",
     "shell.execute_reply": "2021-08-07T20:56:26.965229Z",
     "shell.execute_reply.started": "2021-08-07T20:55:35.943051Z"
    },
    "papermill": {
     "duration": 0.03896,
     "end_time": "2021-08-07T20:56:26.965928",
     "exception": false,
     "start_time": "2021-08-07T20:56:26.926968",
     "status": "completed"
    },
    "tags": []
   },
   "outputs": [],
   "source": [
    "df = process_data(df)"
   ]
  },
  {
   "cell_type": "code",
   "execution_count": 7,
   "id": "c518a6a6",
   "metadata": {
    "execution": {
     "iopub.execute_input": "2021-08-07T20:56:27.019525Z",
     "iopub.status.busy": "2021-08-07T20:56:27.018870Z",
     "iopub.status.idle": "2021-08-07T20:56:27.020966Z",
     "shell.execute_reply": "2021-08-07T20:56:27.021448Z",
     "shell.execute_reply.started": "2021-08-07T20:55:36.132510Z"
    },
    "papermill": {
     "duration": 0.031616,
     "end_time": "2021-08-07T20:56:27.021631",
     "exception": false,
     "start_time": "2021-08-07T20:56:26.990015",
     "status": "completed"
    },
    "tags": []
   },
   "outputs": [],
   "source": [
    "features = ['Pclass','Sex','SibSp','Parch']"
   ]
  },
  {
   "cell_type": "code",
   "execution_count": 8,
   "id": "0597507d",
   "metadata": {
    "execution": {
     "iopub.execute_input": "2021-08-07T20:56:27.073010Z",
     "iopub.status.busy": "2021-08-07T20:56:27.072302Z",
     "iopub.status.idle": "2021-08-07T20:56:27.084409Z",
     "shell.execute_reply": "2021-08-07T20:56:27.083783Z",
     "shell.execute_reply.started": "2021-08-07T20:55:36.312359Z"
    },
    "papermill": {
     "duration": 0.038423,
     "end_time": "2021-08-07T20:56:27.084554",
     "exception": false,
     "start_time": "2021-08-07T20:56:27.046131",
     "status": "completed"
    },
    "tags": []
   },
   "outputs": [],
   "source": [
    "scaler = StandardScaler()\n",
    "X = scaler.fit_transform(df[features])\n",
    "y = df['Survived']\n",
    "x_train,x_test,y_train,y_test = train_test_split(X,y,test_size=0.3,random_state=0)"
   ]
  },
  {
   "cell_type": "code",
   "execution_count": 9,
   "id": "58e303e2",
   "metadata": {
    "execution": {
     "iopub.execute_input": "2021-08-07T20:56:27.139836Z",
     "iopub.status.busy": "2021-08-07T20:56:27.139143Z",
     "iopub.status.idle": "2021-08-07T20:56:27.459954Z",
     "shell.execute_reply": "2021-08-07T20:56:27.459194Z",
     "shell.execute_reply.started": "2021-08-07T20:55:36.503975Z"
    },
    "papermill": {
     "duration": 0.351678,
     "end_time": "2021-08-07T20:56:27.460105",
     "exception": false,
     "start_time": "2021-08-07T20:56:27.108427",
     "status": "completed"
    },
    "tags": []
   },
   "outputs": [],
   "source": [
    "knn_scores = pd.DataFrame()\n",
    "for k in range(2,20):\n",
    "    KNN = KNeighborsClassifier(n_neighbors=k)\n",
    "    KNN.fit(x_train,y_train)\n",
    "    score = balanced_accuracy_score(y_test,KNN.predict(x_test))\n",
    "    knn_scores = knn_scores.append({'k':k,'score':score},ignore_index=True)"
   ]
  },
  {
   "cell_type": "code",
   "execution_count": 10,
   "id": "d76ef0e6",
   "metadata": {
    "execution": {
     "iopub.execute_input": "2021-08-07T20:56:27.511476Z",
     "iopub.status.busy": "2021-08-07T20:56:27.510552Z",
     "iopub.status.idle": "2021-08-07T20:56:27.533416Z",
     "shell.execute_reply": "2021-08-07T20:56:27.532633Z",
     "shell.execute_reply.started": "2021-08-07T20:55:36.800867Z"
    },
    "papermill": {
     "duration": 0.049675,
     "end_time": "2021-08-07T20:56:27.533570",
     "exception": false,
     "start_time": "2021-08-07T20:56:27.483895",
     "status": "completed"
    },
    "tags": []
   },
   "outputs": [
    {
     "data": {
      "text/html": [
       "<div>\n",
       "<style scoped>\n",
       "    .dataframe tbody tr th:only-of-type {\n",
       "        vertical-align: middle;\n",
       "    }\n",
       "\n",
       "    .dataframe tbody tr th {\n",
       "        vertical-align: top;\n",
       "    }\n",
       "\n",
       "    .dataframe thead th {\n",
       "        text-align: right;\n",
       "    }\n",
       "</style>\n",
       "<table border=\"1\" class=\"dataframe\">\n",
       "  <thead>\n",
       "    <tr style=\"text-align: right;\">\n",
       "      <th></th>\n",
       "      <th>k</th>\n",
       "      <th>score</th>\n",
       "    </tr>\n",
       "  </thead>\n",
       "  <tbody>\n",
       "    <tr>\n",
       "      <th>1</th>\n",
       "      <td>3.0</td>\n",
       "      <td>0.754286</td>\n",
       "    </tr>\n",
       "    <tr>\n",
       "      <th>12</th>\n",
       "      <td>14.0</td>\n",
       "      <td>0.746310</td>\n",
       "    </tr>\n",
       "    <tr>\n",
       "      <th>16</th>\n",
       "      <td>18.0</td>\n",
       "      <td>0.744286</td>\n",
       "    </tr>\n",
       "    <tr>\n",
       "      <th>17</th>\n",
       "      <td>19.0</td>\n",
       "      <td>0.743333</td>\n",
       "    </tr>\n",
       "    <tr>\n",
       "      <th>15</th>\n",
       "      <td>17.0</td>\n",
       "      <td>0.743333</td>\n",
       "    </tr>\n",
       "    <tr>\n",
       "      <th>2</th>\n",
       "      <td>4.0</td>\n",
       "      <td>0.743095</td>\n",
       "    </tr>\n",
       "    <tr>\n",
       "      <th>5</th>\n",
       "      <td>7.0</td>\n",
       "      <td>0.742381</td>\n",
       "    </tr>\n",
       "    <tr>\n",
       "      <th>11</th>\n",
       "      <td>13.0</td>\n",
       "      <td>0.741310</td>\n",
       "    </tr>\n",
       "    <tr>\n",
       "      <th>9</th>\n",
       "      <td>11.0</td>\n",
       "      <td>0.740357</td>\n",
       "    </tr>\n",
       "    <tr>\n",
       "      <th>13</th>\n",
       "      <td>15.0</td>\n",
       "      <td>0.739405</td>\n",
       "    </tr>\n",
       "    <tr>\n",
       "      <th>14</th>\n",
       "      <td>16.0</td>\n",
       "      <td>0.739286</td>\n",
       "    </tr>\n",
       "    <tr>\n",
       "      <th>10</th>\n",
       "      <td>12.0</td>\n",
       "      <td>0.738333</td>\n",
       "    </tr>\n",
       "    <tr>\n",
       "      <th>3</th>\n",
       "      <td>5.0</td>\n",
       "      <td>0.736310</td>\n",
       "    </tr>\n",
       "    <tr>\n",
       "      <th>0</th>\n",
       "      <td>2.0</td>\n",
       "      <td>0.734048</td>\n",
       "    </tr>\n",
       "    <tr>\n",
       "      <th>8</th>\n",
       "      <td>10.0</td>\n",
       "      <td>0.733333</td>\n",
       "    </tr>\n",
       "    <tr>\n",
       "      <th>7</th>\n",
       "      <td>9.0</td>\n",
       "      <td>0.732381</td>\n",
       "    </tr>\n",
       "    <tr>\n",
       "      <th>4</th>\n",
       "      <td>6.0</td>\n",
       "      <td>0.729286</td>\n",
       "    </tr>\n",
       "    <tr>\n",
       "      <th>6</th>\n",
       "      <td>8.0</td>\n",
       "      <td>0.728333</td>\n",
       "    </tr>\n",
       "  </tbody>\n",
       "</table>\n",
       "</div>"
      ],
      "text/plain": [
       "       k     score\n",
       "1    3.0  0.754286\n",
       "12  14.0  0.746310\n",
       "16  18.0  0.744286\n",
       "17  19.0  0.743333\n",
       "15  17.0  0.743333\n",
       "2    4.0  0.743095\n",
       "5    7.0  0.742381\n",
       "11  13.0  0.741310\n",
       "9   11.0  0.740357\n",
       "13  15.0  0.739405\n",
       "14  16.0  0.739286\n",
       "10  12.0  0.738333\n",
       "3    5.0  0.736310\n",
       "0    2.0  0.734048\n",
       "8   10.0  0.733333\n",
       "7    9.0  0.732381\n",
       "4    6.0  0.729286\n",
       "6    8.0  0.728333"
      ]
     },
     "execution_count": 10,
     "metadata": {},
     "output_type": "execute_result"
    }
   ],
   "source": [
    "knn_scores.sort_values(by='score',ascending=False)"
   ]
  },
  {
   "cell_type": "code",
   "execution_count": 11,
   "id": "9de37a3c",
   "metadata": {
    "execution": {
     "iopub.execute_input": "2021-08-07T20:56:27.592043Z",
     "iopub.status.busy": "2021-08-07T20:56:27.591294Z",
     "iopub.status.idle": "2021-08-07T20:56:27.594539Z",
     "shell.execute_reply": "2021-08-07T20:56:27.593911Z",
     "shell.execute_reply.started": "2021-08-07T20:55:36.878509Z"
    },
    "papermill": {
     "duration": 0.032946,
     "end_time": "2021-08-07T20:56:27.594688",
     "exception": false,
     "start_time": "2021-08-07T20:56:27.561742",
     "status": "completed"
    },
    "tags": []
   },
   "outputs": [],
   "source": [
    "k = knn_scores.sort_values(by='score',ascending=False).head(1)['k'].values[0].astype(int)"
   ]
  },
  {
   "cell_type": "code",
   "execution_count": 12,
   "id": "dc58cc1c",
   "metadata": {
    "execution": {
     "iopub.execute_input": "2021-08-07T20:56:27.649187Z",
     "iopub.status.busy": "2021-08-07T20:56:27.648028Z",
     "iopub.status.idle": "2021-08-07T20:56:27.656111Z",
     "shell.execute_reply": "2021-08-07T20:56:27.655557Z",
     "shell.execute_reply.started": "2021-08-07T20:55:37.030715Z"
    },
    "papermill": {
     "duration": 0.037014,
     "end_time": "2021-08-07T20:56:27.656264",
     "exception": false,
     "start_time": "2021-08-07T20:56:27.619250",
     "status": "completed"
    },
    "tags": []
   },
   "outputs": [
    {
     "data": {
      "text/plain": [
       "KNeighborsClassifier(n_neighbors=3)"
      ]
     },
     "execution_count": 12,
     "metadata": {},
     "output_type": "execute_result"
    }
   ],
   "source": [
    "KNN = KNeighborsClassifier(n_neighbors=k)\n",
    "KNN.fit(x_train,y_train)"
   ]
  },
  {
   "cell_type": "code",
   "execution_count": 13,
   "id": "912c7a95",
   "metadata": {
    "execution": {
     "iopub.execute_input": "2021-08-07T20:56:27.711287Z",
     "iopub.status.busy": "2021-08-07T20:56:27.710265Z",
     "iopub.status.idle": "2021-08-07T20:56:27.849310Z",
     "shell.execute_reply": "2021-08-07T20:56:27.848743Z",
     "shell.execute_reply.started": "2021-08-07T20:55:37.182866Z"
    },
    "papermill": {
     "duration": 0.16876,
     "end_time": "2021-08-07T20:56:27.849458",
     "exception": false,
     "start_time": "2021-08-07T20:56:27.680698",
     "status": "completed"
    },
    "tags": []
   },
   "outputs": [
    {
     "data": {
      "text/plain": [
       "LogisticRegression(solver='liblinear')"
      ]
     },
     "execution_count": 13,
     "metadata": {},
     "output_type": "execute_result"
    }
   ],
   "source": [
    "LR = LogisticRegression(solver='liblinear')\n",
    "LR.fit(x_train,y_train)"
   ]
  },
  {
   "cell_type": "code",
   "execution_count": 14,
   "id": "c09eb994",
   "metadata": {
    "execution": {
     "iopub.execute_input": "2021-08-07T20:56:27.905865Z",
     "iopub.status.busy": "2021-08-07T20:56:27.904970Z",
     "iopub.status.idle": "2021-08-07T20:56:27.914313Z",
     "shell.execute_reply": "2021-08-07T20:56:27.913827Z",
     "shell.execute_reply.started": "2021-08-07T20:55:37.370843Z"
    },
    "papermill": {
     "duration": 0.039795,
     "end_time": "2021-08-07T20:56:27.914449",
     "exception": false,
     "start_time": "2021-08-07T20:56:27.874654",
     "status": "completed"
    },
    "tags": []
   },
   "outputs": [
    {
     "data": {
      "text/plain": [
       "SVC(kernel='linear')"
      ]
     },
     "execution_count": 14,
     "metadata": {},
     "output_type": "execute_result"
    }
   ],
   "source": [
    "SVM = SVC(kernel='linear')\n",
    "SVM.fit(x_train,y_train)"
   ]
  },
  {
   "cell_type": "code",
   "execution_count": 15,
   "id": "f546a7ac",
   "metadata": {
    "execution": {
     "iopub.execute_input": "2021-08-07T20:56:27.969834Z",
     "iopub.status.busy": "2021-08-07T20:56:27.969094Z",
     "iopub.status.idle": "2021-08-07T20:56:27.975112Z",
     "shell.execute_reply": "2021-08-07T20:56:27.975620Z",
     "shell.execute_reply.started": "2021-08-07T20:55:37.702441Z"
    },
    "papermill": {
     "duration": 0.036039,
     "end_time": "2021-08-07T20:56:27.975820",
     "exception": false,
     "start_time": "2021-08-07T20:56:27.939781",
     "status": "completed"
    },
    "tags": []
   },
   "outputs": [
    {
     "data": {
      "text/plain": [
       "DecisionTreeClassifier()"
      ]
     },
     "execution_count": 15,
     "metadata": {},
     "output_type": "execute_result"
    }
   ],
   "source": [
    "DT = DecisionTreeClassifier()\n",
    "DT.fit(x_train,y_train)"
   ]
  },
  {
   "cell_type": "code",
   "execution_count": 16,
   "id": "eda1f0cd",
   "metadata": {
    "execution": {
     "iopub.execute_input": "2021-08-07T20:56:28.034473Z",
     "iopub.status.busy": "2021-08-07T20:56:28.033664Z",
     "iopub.status.idle": "2021-08-07T20:56:28.230021Z",
     "shell.execute_reply": "2021-08-07T20:56:28.229340Z",
     "shell.execute_reply.started": "2021-08-07T20:55:37.894352Z"
    },
    "papermill": {
     "duration": 0.227313,
     "end_time": "2021-08-07T20:56:28.230167",
     "exception": false,
     "start_time": "2021-08-07T20:56:28.002854",
     "status": "completed"
    },
    "tags": []
   },
   "outputs": [
    {
     "data": {
      "text/plain": [
       "RandomForestClassifier(max_depth=3, random_state=2)"
      ]
     },
     "execution_count": 16,
     "metadata": {},
     "output_type": "execute_result"
    }
   ],
   "source": [
    "#RFC = RandomForestClassifier()\n",
    "RFC = RandomForestClassifier(n_estimators=100, max_depth=3, random_state=2)\n",
    "RFC.fit(x_train,y_train)"
   ]
  },
  {
   "cell_type": "code",
   "execution_count": 17,
   "id": "0f3f2914",
   "metadata": {
    "execution": {
     "iopub.execute_input": "2021-08-07T20:56:28.287976Z",
     "iopub.status.busy": "2021-08-07T20:56:28.287312Z",
     "iopub.status.idle": "2021-08-07T20:56:29.179055Z",
     "shell.execute_reply": "2021-08-07T20:56:29.180471Z",
     "shell.execute_reply.started": "2021-08-07T20:55:38.112138Z"
    },
    "papermill": {
     "duration": 0.924422,
     "end_time": "2021-08-07T20:56:29.180779",
     "exception": false,
     "start_time": "2021-08-07T20:56:28.256357",
     "status": "completed"
    },
    "tags": []
   },
   "outputs": [
    {
     "data": {
      "text/plain": [
       "MLPClassifier(max_iter=1000)"
      ]
     },
     "execution_count": 17,
     "metadata": {},
     "output_type": "execute_result"
    }
   ],
   "source": [
    "MLP = MLPClassifier(max_iter=1000)\n",
    "MLP.fit(x_train,y_train)"
   ]
  },
  {
   "cell_type": "code",
   "execution_count": 18,
   "id": "30731121",
   "metadata": {
    "execution": {
     "iopub.execute_input": "2021-08-07T20:56:29.301928Z",
     "iopub.status.busy": "2021-08-07T20:56:29.301276Z",
     "iopub.status.idle": "2021-08-07T20:56:29.613138Z",
     "shell.execute_reply": "2021-08-07T20:56:29.614058Z",
     "shell.execute_reply.started": "2021-08-07T20:55:39.216669Z"
    },
    "papermill": {
     "duration": 0.380907,
     "end_time": "2021-08-07T20:56:29.614276",
     "exception": false,
     "start_time": "2021-08-07T20:56:29.233369",
     "status": "completed"
    },
    "tags": []
   },
   "outputs": [
    {
     "data": {
      "text/plain": [
       "GaussianProcessClassifier()"
      ]
     },
     "execution_count": 18,
     "metadata": {},
     "output_type": "execute_result"
    }
   ],
   "source": [
    "GBC = GaussianProcessClassifier()\n",
    "GBC.fit(x_train,y_train)"
   ]
  },
  {
   "cell_type": "code",
   "execution_count": 19,
   "id": "86cdef59",
   "metadata": {
    "execution": {
     "iopub.execute_input": "2021-08-07T20:56:29.723528Z",
     "iopub.status.busy": "2021-08-07T20:56:29.722470Z",
     "iopub.status.idle": "2021-08-07T20:56:29.834950Z",
     "shell.execute_reply": "2021-08-07T20:56:29.834214Z",
     "shell.execute_reply.started": "2021-08-07T20:55:39.758939Z"
    },
    "papermill": {
     "duration": 0.181384,
     "end_time": "2021-08-07T20:56:29.835098",
     "exception": false,
     "start_time": "2021-08-07T20:56:29.653714",
     "status": "completed"
    },
    "tags": []
   },
   "outputs": [
    {
     "data": {
      "text/plain": [
       "AdaBoostClassifier()"
      ]
     },
     "execution_count": 19,
     "metadata": {},
     "output_type": "execute_result"
    }
   ],
   "source": [
    "ABC = AdaBoostClassifier()\n",
    "ABC.fit(x_train,y_train)"
   ]
  },
  {
   "cell_type": "code",
   "execution_count": 20,
   "id": "48ad09f5",
   "metadata": {
    "execution": {
     "iopub.execute_input": "2021-08-07T20:56:29.898794Z",
     "iopub.status.busy": "2021-08-07T20:56:29.897607Z",
     "iopub.status.idle": "2021-08-07T20:56:29.903959Z",
     "shell.execute_reply": "2021-08-07T20:56:29.904402Z",
     "shell.execute_reply.started": "2021-08-07T20:55:39.902561Z"
    },
    "papermill": {
     "duration": 0.039678,
     "end_time": "2021-08-07T20:56:29.904573",
     "exception": false,
     "start_time": "2021-08-07T20:56:29.864895",
     "status": "completed"
    },
    "tags": []
   },
   "outputs": [
    {
     "data": {
      "text/plain": [
       "GaussianNB()"
      ]
     },
     "execution_count": 20,
     "metadata": {},
     "output_type": "execute_result"
    }
   ],
   "source": [
    "GNB = GaussianNB()\n",
    "GNB.fit(x_train,y_train)"
   ]
  },
  {
   "cell_type": "code",
   "execution_count": 21,
   "id": "8c6d843e",
   "metadata": {
    "execution": {
     "iopub.execute_input": "2021-08-07T20:56:29.964988Z",
     "iopub.status.busy": "2021-08-07T20:56:29.964202Z",
     "iopub.status.idle": "2021-08-07T20:56:29.967060Z",
     "shell.execute_reply": "2021-08-07T20:56:29.966509Z",
     "shell.execute_reply.started": "2021-08-07T20:55:39.916072Z"
    },
    "papermill": {
     "duration": 0.035209,
     "end_time": "2021-08-07T20:56:29.967201",
     "exception": false,
     "start_time": "2021-08-07T20:56:29.931992",
     "status": "completed"
    },
    "tags": []
   },
   "outputs": [],
   "source": [
    "models = [KNN,LR,SVM,DT,RFC,MLP,GBC,ABC,GNB]"
   ]
  },
  {
   "cell_type": "code",
   "execution_count": 22,
   "id": "b1aa7314",
   "metadata": {
    "execution": {
     "iopub.execute_input": "2021-08-07T20:56:30.028247Z",
     "iopub.status.busy": "2021-08-07T20:56:30.027501Z",
     "iopub.status.idle": "2021-08-07T20:56:32.430763Z",
     "shell.execute_reply": "2021-08-07T20:56:32.430180Z",
     "shell.execute_reply.started": "2021-08-07T20:55:40.021460Z"
    },
    "papermill": {
     "duration": 2.436484,
     "end_time": "2021-08-07T20:56:32.430909",
     "exception": false,
     "start_time": "2021-08-07T20:56:29.994425",
     "status": "completed"
    },
    "tags": []
   },
   "outputs": [
    {
     "name": "stdout",
     "output_type": "stream",
     "text": [
      "Model: KNeighborsClassifier\n",
      "              precision    recall  f1-score   support\n",
      "\n",
      "           0       0.79      0.93      0.85       168\n",
      "           1       0.83      0.58      0.68       100\n",
      "\n",
      "    accuracy                           0.80       268\n",
      "   macro avg       0.81      0.75      0.77       268\n",
      "weighted avg       0.80      0.80      0.79       268\n",
      "\n",
      "Model: LogisticRegression\n",
      "              precision    recall  f1-score   support\n",
      "\n",
      "           0       0.82      0.86      0.84       168\n",
      "           1       0.74      0.69      0.72       100\n",
      "\n",
      "    accuracy                           0.79       268\n",
      "   macro avg       0.78      0.77      0.78       268\n",
      "weighted avg       0.79      0.79      0.79       268\n",
      "\n",
      "Model: SVC\n",
      "              precision    recall  f1-score   support\n",
      "\n",
      "           0       0.83      0.83      0.83       168\n",
      "           1       0.72      0.71      0.71       100\n",
      "\n",
      "    accuracy                           0.79       268\n",
      "   macro avg       0.77      0.77      0.77       268\n",
      "weighted avg       0.79      0.79      0.79       268\n",
      "\n",
      "Model: DecisionTreeClassifier\n",
      "              precision    recall  f1-score   support\n",
      "\n",
      "           0       0.81      0.86      0.84       168\n",
      "           1       0.74      0.66      0.70       100\n",
      "\n",
      "    accuracy                           0.79       268\n",
      "   macro avg       0.78      0.76      0.77       268\n",
      "weighted avg       0.78      0.79      0.78       268\n",
      "\n",
      "Model: RandomForestClassifier\n",
      "              precision    recall  f1-score   support\n",
      "\n",
      "           0       0.82      0.86      0.84       168\n",
      "           1       0.75      0.69      0.72       100\n",
      "\n",
      "    accuracy                           0.80       268\n",
      "   macro avg       0.79      0.78      0.78       268\n",
      "weighted avg       0.80      0.80      0.80       268\n",
      "\n",
      "Model: MLPClassifier\n",
      "              precision    recall  f1-score   support\n",
      "\n",
      "           0       0.83      0.86      0.84       168\n",
      "           1       0.74      0.70      0.72       100\n",
      "\n",
      "    accuracy                           0.80       268\n",
      "   macro avg       0.79      0.78      0.78       268\n",
      "weighted avg       0.80      0.80      0.80       268\n",
      "\n",
      "Model: GaussianProcessClassifier\n",
      "              precision    recall  f1-score   support\n",
      "\n",
      "           0       0.83      0.86      0.84       168\n",
      "           1       0.74      0.70      0.72       100\n",
      "\n",
      "    accuracy                           0.80       268\n",
      "   macro avg       0.79      0.78      0.78       268\n",
      "weighted avg       0.80      0.80      0.80       268\n",
      "\n",
      "Model: AdaBoostClassifier\n",
      "              precision    recall  f1-score   support\n",
      "\n",
      "           0       0.83      0.86      0.84       168\n",
      "           1       0.74      0.70      0.72       100\n",
      "\n",
      "    accuracy                           0.80       268\n",
      "   macro avg       0.79      0.78      0.78       268\n",
      "weighted avg       0.80      0.80      0.80       268\n",
      "\n",
      "Model: GaussianNB\n",
      "              precision    recall  f1-score   support\n",
      "\n",
      "           0       0.86      0.74      0.79       168\n",
      "           1       0.65      0.80      0.71       100\n",
      "\n",
      "    accuracy                           0.76       268\n",
      "   macro avg       0.75      0.77      0.75       268\n",
      "weighted avg       0.78      0.76      0.76       268\n",
      "\n"
     ]
    },
    {
     "data": {
      "image/png": "[encoded data removed]",
      "text/plain": [
       "<Figure size 432x288 with 2 Axes>"
      ]
     },
     "metadata": {
      "needs_background": "light"
     },
     "output_type": "display_data"
    },
    {
     "data": {
      "image/png": "[encoded data removed]",
      "text/plain": [
       "<Figure size 432x288 with 2 Axes>"
      ]
     },
     "metadata": {
      "needs_background": "light"
     },
     "output_type": "display_data"
    },
    {
     "data": {
      "image/png": "[encoded data removed]",
      "text/plain": [
       "<Figure size 432x288 with 2 Axes>"
      ]
     },
     "metadata": {
      "needs_background": "light"
     },
     "output_type": "display_data"
    },
    {
     "data": {
      "image/png": "[encoded data removed]",
      "text/plain": [
       "<Figure size 432x288 with 2 Axes>"
      ]
     },
     "metadata": {
      "needs_background": "light"
     },
     "output_type": "display_data"
    },
    {
     "data": {
      "image/png": "[encoded data removed]",
      "text/plain": [
       "<Figure size 432x288 with 2 Axes>"
      ]
     },
     "metadata": {
      "needs_background": "light"
     },
     "output_type": "display_data"
    },
    {
     "data": {
      "image/png": "[encoded data removed]",
      "text/plain": [
       "<Figure size 432x288 with 2 Axes>"
      ]
     },
     "metadata": {
      "needs_background": "light"
     },
     "output_type": "display_data"
    },
    {
     "data": {
      "image/png": "[encoded data removed]",
      "text/plain": [
       "<Figure size 432x288 with 2 Axes>"
      ]
     },
     "metadata": {
      "needs_background": "light"
     },
     "output_type": "display_data"
    },
    {
     "data": {
      "image/png": "[encoded data removed]",
      "text/plain": [
       "<Figure size 432x288 with 2 Axes>"
      ]
     },
     "metadata": {
      "needs_background": "light"
     },
     "output_type": "display_data"
    },
    {
     "data": {
      "image/png": "[encoded data removed]",
      "text/plain": [
       "<Figure size 432x288 with 2 Axes>"
      ]
     },
     "metadata": {
      "needs_background": "light"
     },
     "output_type": "display_data"
    }
   ],
   "source": [
    "for model in models:\n",
    "    print(\"Model: %s\" %(model.__class__.__name__))\n",
    "    evaluate(model,x_test,y_test)"
   ]
  },
  {
   "cell_type": "code",
   "execution_count": 23,
   "id": "280032c6",
   "metadata": {
    "execution": {
     "iopub.execute_input": "2021-08-07T20:56:32.514190Z",
     "iopub.status.busy": "2021-08-07T20:56:32.513308Z",
     "iopub.status.idle": "2021-08-07T20:56:32.516113Z",
     "shell.execute_reply": "2021-08-07T20:56:32.516546Z",
     "shell.execute_reply.started": "2021-08-07T20:55:42.285353Z"
    },
    "papermill": {
     "duration": 0.050331,
     "end_time": "2021-08-07T20:56:32.516762",
     "exception": false,
     "start_time": "2021-08-07T20:56:32.466431",
     "status": "completed"
    },
    "tags": []
   },
   "outputs": [],
   "source": [
    "df_test = process_data(df_test)"
   ]
  },
  {
   "cell_type": "code",
   "execution_count": 24,
   "id": "96647d26",
   "metadata": {
    "execution": {
     "iopub.execute_input": "2021-08-07T20:56:32.596425Z",
     "iopub.status.busy": "2021-08-07T20:56:32.593674Z",
     "iopub.status.idle": "2021-08-07T20:56:32.616518Z",
     "shell.execute_reply": "2021-08-07T20:56:32.615212Z",
     "shell.execute_reply.started": "2021-08-07T20:55:45.444934Z"
    },
    "papermill": {
     "duration": 0.064503,
     "end_time": "2021-08-07T20:56:32.616697",
     "exception": false,
     "start_time": "2021-08-07T20:56:32.552194",
     "status": "completed"
    },
    "tags": []
   },
   "outputs": [],
   "source": [
    "X_test = df_test[features]\n",
    "\n",
    "X_test = scaler.fit_transform(X_test)\n",
    "y_preds = RFC.predict(X_test)"
   ]
  },
  {
   "cell_type": "code",
   "execution_count": 25,
   "id": "a85e8fda",
   "metadata": {
    "execution": {
     "iopub.execute_input": "2021-08-07T20:56:32.693392Z",
     "iopub.status.busy": "2021-08-07T20:56:32.692700Z",
     "iopub.status.idle": "2021-08-07T20:56:32.695532Z",
     "shell.execute_reply": "2021-08-07T20:56:32.695029Z",
     "shell.execute_reply.started": "2021-08-07T20:55:46.604566Z"
    },
    "papermill": {
     "duration": 0.04375,
     "end_time": "2021-08-07T20:56:32.695669",
     "exception": false,
     "start_time": "2021-08-07T20:56:32.651919",
     "status": "completed"
    },
    "tags": []
   },
   "outputs": [],
   "source": [
    "df_submission['PassengerId'] = df_test['PassengerId']\n",
    "df_submission['Survived'] = y_preds"
   ]
  },
  {
   "cell_type": "code",
   "execution_count": 26,
   "id": "5837fd6a",
   "metadata": {
    "execution": {
     "iopub.execute_input": "2021-08-07T20:56:32.783387Z",
     "iopub.status.busy": "2021-08-07T20:56:32.782482Z",
     "iopub.status.idle": "2021-08-07T20:56:32.786576Z",
     "shell.execute_reply": "2021-08-07T20:56:32.787330Z",
     "shell.execute_reply.started": "2021-08-07T20:55:48.288705Z"
    },
    "papermill": {
     "duration": 0.054214,
     "end_time": "2021-08-07T20:56:32.787526",
     "exception": false,
     "start_time": "2021-08-07T20:56:32.733312",
     "status": "completed"
    },
    "tags": []
   },
   "outputs": [
    {
     "data": {
      "text/html": [
       "<div>\n",
       "<style scoped>\n",
       "    .dataframe tbody tr th:only-of-type {\n",
       "        vertical-align: middle;\n",
       "    }\n",
       "\n",
       "    .dataframe tbody tr th {\n",
       "        vertical-align: top;\n",
       "    }\n",
       "\n",
       "    .dataframe thead th {\n",
       "        text-align: right;\n",
       "    }\n",
       "</style>\n",
       "<table border=\"1\" class=\"dataframe\">\n",
       "  <thead>\n",
       "    <tr style=\"text-align: right;\">\n",
       "      <th></th>\n",
       "      <th>PassengerId</th>\n",
       "      <th>Survived</th>\n",
       "    </tr>\n",
       "  </thead>\n",
       "  <tbody>\n",
       "    <tr>\n",
       "      <th>0</th>\n",
       "      <td>892</td>\n",
       "      <td>0</td>\n",
       "    </tr>\n",
       "    <tr>\n",
       "      <th>1</th>\n",
       "      <td>893</td>\n",
       "      <td>1</td>\n",
       "    </tr>\n",
       "    <tr>\n",
       "      <th>2</th>\n",
       "      <td>894</td>\n",
       "      <td>0</td>\n",
       "    </tr>\n",
       "    <tr>\n",
       "      <th>3</th>\n",
       "      <td>895</td>\n",
       "      <td>0</td>\n",
       "    </tr>\n",
       "    <tr>\n",
       "      <th>4</th>\n",
       "      <td>896</td>\n",
       "      <td>1</td>\n",
       "    </tr>\n",
       "    <tr>\n",
       "      <th>...</th>\n",
       "      <td>...</td>\n",
       "      <td>...</td>\n",
       "    </tr>\n",
       "    <tr>\n",
       "      <th>413</th>\n",
       "      <td>1305</td>\n",
       "      <td>0</td>\n",
       "    </tr>\n",
       "    <tr>\n",
       "      <th>414</th>\n",
       "      <td>1306</td>\n",
       "      <td>1</td>\n",
       "    </tr>\n",
       "    <tr>\n",
       "      <th>415</th>\n",
       "      <td>1307</td>\n",
       "      <td>0</td>\n",
       "    </tr>\n",
       "    <tr>\n",
       "      <th>416</th>\n",
       "      <td>1308</td>\n",
       "      <td>0</td>\n",
       "    </tr>\n",
       "    <tr>\n",
       "      <th>417</th>\n",
       "      <td>1309</td>\n",
       "      <td>0</td>\n",
       "    </tr>\n",
       "  </tbody>\n",
       "</table>\n",
       "<p>418 rows × 2 columns</p>\n",
       "</div>"
      ],
      "text/plain": [
       "     PassengerId  Survived\n",
       "0            892         0\n",
       "1            893         1\n",
       "2            894         0\n",
       "3            895         0\n",
       "4            896         1\n",
       "..           ...       ...\n",
       "413         1305         0\n",
       "414         1306         1\n",
       "415         1307         0\n",
       "416         1308         0\n",
       "417         1309         0\n",
       "\n",
       "[418 rows x 2 columns]"
      ]
     },
     "execution_count": 26,
     "metadata": {},
     "output_type": "execute_result"
    }
   ],
   "source": [
    "df_submission"
   ]
  },
  {
   "cell_type": "code",
   "execution_count": 27,
   "id": "fdc21e05",
   "metadata": {
    "execution": {
     "iopub.execute_input": "2021-08-07T20:56:32.868486Z",
     "iopub.status.busy": "2021-08-07T20:56:32.867533Z",
     "iopub.status.idle": "2021-08-07T20:56:32.871651Z",
     "shell.execute_reply": "2021-08-07T20:56:32.871095Z",
     "shell.execute_reply.started": "2021-08-07T20:55:56.333289Z"
    },
    "papermill": {
     "duration": 0.04792,
     "end_time": "2021-08-07T20:56:32.871841",
     "exception": false,
     "start_time": "2021-08-07T20:56:32.823921",
     "status": "completed"
    },
    "tags": []
   },
   "outputs": [
    {
     "data": {
      "text/plain": [
       "array([0, 1, 0, 0, 1, 0, 1, 0, 1, 0, 0, 0, 1, 0, 1, 1, 0, 0, 1, 1, 0, 0,\n",
       "       1, 0, 1, 0, 1, 0, 0, 0, 0, 0, 1, 1, 0, 0, 1, 1, 0, 0, 0, 0, 0, 1,\n",
       "       1, 0, 0, 0, 1, 1, 0, 0, 1, 1, 0, 0, 0, 0, 0, 1, 0, 0, 0, 1, 0, 1,\n",
       "       1, 0, 0, 1, 1, 0, 1, 0, 1, 0, 0, 1, 0, 1, 0, 0, 0, 0, 0, 0, 1, 1,\n",
       "       1, 0, 1, 0, 1, 0, 0, 0, 1, 0, 1, 0, 1, 0, 0, 0, 1, 0, 0, 0, 0, 0,\n",
       "       0, 1, 1, 1, 1, 0, 0, 1, 0, 1, 1, 0, 1, 0, 0, 1, 0, 1, 0, 0, 0, 0,\n",
       "       1, 0, 0, 0, 0, 0, 1, 0, 0, 1, 0, 0, 0, 0, 0, 0, 0, 0, 1, 0, 0, 1,\n",
       "       0, 0, 1, 1, 0, 1, 1, 0, 1, 0, 0, 1, 0, 0, 1, 1, 0, 0, 0, 0, 0, 1,\n",
       "       1, 0, 1, 1, 0, 0, 1, 0, 1, 0, 1, 0, 0, 0, 0, 0, 0, 0, 0, 0, 0, 1,\n",
       "       0, 1, 1, 0, 0, 1, 0, 0, 1, 0, 1, 0, 0, 0, 0, 1, 0, 0, 1, 0, 1, 0,\n",
       "       1, 0, 1, 0, 1, 1, 0, 1, 0, 0, 0, 1, 0, 0, 0, 0, 0, 0, 1, 1, 1, 1,\n",
       "       0, 0, 0, 0, 1, 0, 1, 1, 1, 0, 0, 0, 0, 0, 0, 0, 1, 0, 0, 0, 1, 1,\n",
       "       0, 0, 0, 0, 1, 0, 0, 0, 1, 1, 0, 1, 0, 0, 0, 0, 1, 0, 1, 1, 1, 0,\n",
       "       0, 0, 0, 0, 0, 1, 0, 0, 0, 0, 1, 0, 0, 0, 0, 0, 0, 0, 1, 1, 0, 0,\n",
       "       0, 1, 0, 0, 0, 1, 1, 1, 0, 0, 0, 0, 0, 0, 0, 0, 1, 0, 1, 0, 0, 0,\n",
       "       1, 0, 0, 1, 0, 0, 0, 0, 0, 0, 0, 0, 0, 1, 0, 1, 0, 1, 0, 1, 1, 0,\n",
       "       0, 0, 1, 0, 1, 0, 0, 1, 0, 1, 1, 0, 1, 0, 0, 1, 1, 0, 0, 1, 0, 0,\n",
       "       1, 1, 1, 0, 0, 0, 0, 0, 1, 1, 0, 1, 0, 0, 0, 0, 0, 1, 0, 0, 0, 1,\n",
       "       0, 1, 0, 0, 1, 0, 1, 0, 0, 0, 0, 0, 1, 1, 1, 1, 1, 0, 1, 0, 0, 0])"
      ]
     },
     "execution_count": 27,
     "metadata": {},
     "output_type": "execute_result"
    }
   ],
   "source": [
    "y_preds"
   ]
  },
  {
   "cell_type": "code",
   "execution_count": 28,
   "id": "e39a7940",
   "metadata": {
    "execution": {
     "iopub.execute_input": "2021-08-07T20:56:32.949808Z",
     "iopub.status.busy": "2021-08-07T20:56:32.948808Z",
     "iopub.status.idle": "2021-08-07T20:56:32.954375Z",
     "shell.execute_reply": "2021-08-07T20:56:32.954938Z",
     "shell.execute_reply.started": "2021-08-07T20:56:00.235887Z"
    },
    "papermill": {
     "duration": 0.046536,
     "end_time": "2021-08-07T20:56:32.955112",
     "exception": false,
     "start_time": "2021-08-07T20:56:32.908576",
     "status": "completed"
    },
    "tags": []
   },
   "outputs": [],
   "source": [
    "df_submission.to_csv(\"submission.csv\",index=False)"
   ]
  },
  {
   "cell_type": "code",
   "execution_count": null,
   "id": "d84ebb64",
   "metadata": {
    "papermill": {
     "duration": 0.035601,
     "end_time": "2021-08-07T20:56:33.027063",
     "exception": false,
     "start_time": "2021-08-07T20:56:32.991462",
     "status": "completed"
    },
    "tags": []
   },
   "outputs": [],
   "source": []
  }
 ],
 "metadata": {
  "kernelspec": {
   "display_name": "Python 3",
   "language": "python",
   "name": "python3"
  },
  "language_info": {
   "codemirror_mode": {
    "name": "ipython",
    "version": 3
   },
   "file_extension": ".py",
   "mimetype": "text/x-python",
   "name": "python",
   "nbconvert_exporter": "python",
   "pygments_lexer": "ipython3",
   "version": "3.7.10"
  },
  "papermill": {
   "default_parameters": {},
   "duration": 17.857569,
   "end_time": "2021-08-07T20:56:34.745433",
   "environment_variables": {},
   "exception": null,
   "input_path": "__notebook__.ipynb",
   "output_path": "__notebook__.ipynb",
   "parameters": {},
   "start_time": "2021-08-07T20:56:16.887864",
   "version": "2.3.3"
  }
 },
 "nbformat": 4,
 "nbformat_minor": 5
}
